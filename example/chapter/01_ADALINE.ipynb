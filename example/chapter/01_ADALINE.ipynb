{
 "cells": [
  {
   "cell_type": "markdown",
   "metadata": {},
   "source": [
    "# ADALINE"
   ]
  },
  {
   "cell_type": "code",
   "execution_count": 1,
   "metadata": {},
   "outputs": [],
   "source": [
    "# 导入\n",
    "import sys\n",
    "\n",
    "sys.path.append(\"E:/dataFiles/github/MFlow\")"
   ]
  },
  {
   "cell_type": "code",
   "execution_count": 2,
   "metadata": {},
   "outputs": [
    {
     "name": "stdout",
     "output_type": "stream",
     "text": [
      "(1000, 3) (1000,)\n",
      "[175.27795797  56.3580088   15.30767469] 1.0\n"
     ]
    }
   ],
   "source": [
    "# 数据生成\n",
    "from data.generater import sexData\n",
    "\n",
    "xs, ys = sexData(500)\n",
    "\n",
    "print(xs.shape, ys.shape)\n",
    "print(xs[0], ys[0])"
   ]
  },
  {
   "cell_type": "code",
   "execution_count": 3,
   "metadata": {},
   "outputs": [
    {
     "name": "stdout",
     "output_type": "stream",
     "text": [
      "Epoch: 1, acc: 0.500.\n",
      "Epoch: 2, acc: 0.558.\n",
      "Epoch: 3, acc: 0.612.\n",
      "Epoch: 4, acc: 0.654.\n",
      "Epoch: 5, acc: 0.830.\n",
      "Epoch: 6, acc: 0.856.\n",
      "Epoch: 7, acc: 0.902.\n",
      "Epoch: 8, acc: 0.921.\n",
      "Epoch: 9, acc: 0.924.\n",
      "Epoch: 10, acc: 0.930.\n",
      "Epoch: 11, acc: 0.908.\n",
      "Epoch: 12, acc: 0.945.\n",
      "Epoch: 13, acc: 0.939.\n",
      "Epoch: 14, acc: 0.933.\n",
      "Epoch: 15, acc: 0.949.\n",
      "Epoch: 16, acc: 0.935.\n",
      "Epoch: 17, acc: 0.944.\n",
      "Epoch: 18, acc: 0.947.\n",
      "Epoch: 19, acc: 0.954.\n",
      "Epoch: 20, acc: 0.950.\n",
      "Epoch: 21, acc: 0.956.\n",
      "Epoch: 22, acc: 0.953.\n",
      "Epoch: 23, acc: 0.952.\n",
      "Epoch: 24, acc: 0.947.\n",
      "Epoch: 25, acc: 0.950.\n",
      "Epoch: 26, acc: 0.949.\n",
      "Epoch: 27, acc: 0.947.\n",
      "Epoch: 28, acc: 0.945.\n",
      "Epoch: 29, acc: 0.949.\n",
      "Epoch: 30, acc: 0.952.\n",
      "Epoch: 31, acc: 0.952.\n",
      "Epoch: 32, acc: 0.953.\n",
      "Epoch: 33, acc: 0.953.\n",
      "Epoch: 34, acc: 0.943.\n",
      "Epoch: 35, acc: 0.944.\n",
      "Epoch: 36, acc: 0.944.\n",
      "Epoch: 37, acc: 0.953.\n",
      "Epoch: 38, acc: 0.953.\n",
      "Epoch: 39, acc: 0.953.\n",
      "Epoch: 40, acc: 0.946.\n",
      "Epoch: 41, acc: 0.947.\n",
      "Epoch: 42, acc: 0.958.\n",
      "Epoch: 43, acc: 0.959.\n",
      "Epoch: 44, acc: 0.939.\n",
      "Epoch: 45, acc: 0.959.\n",
      "Epoch: 46, acc: 0.949.\n",
      "Epoch: 47, acc: 0.948.\n",
      "Epoch: 48, acc: 0.958.\n",
      "Epoch: 49, acc: 0.958.\n",
      "Epoch: 50, acc: 0.959.\n"
     ]
    }
   ],
   "source": [
    "# 训练\n",
    "import numpy as np\n",
    "from mflow import core, ops, opts\n",
    "\n",
    "# 超参数\n",
    "lr = 0.0001\n",
    "epoch = 50\n",
    "batch_size = 10\n",
    "\n",
    "with core.NameScope(\"ADALINE\"):\n",
    "    # 初始化变量\n",
    "    x = core.Variable(size=(3, 1), trainable=False)\n",
    "    y = core.Variable(size=(1, 1), trainable=False)\n",
    "    w = core.Variable(size=(1, 3), trainable=True)\n",
    "    b = core.Variable(size=(1, 1), trainable=True)\n",
    "    # 模型定义\n",
    "    pred = ops.Add(ops.MatMul(w, x), b)\n",
    "    predicter = ops.Step(pred)\n",
    "    loss = ops.loss.PerceptionLoss(ops.MatMul(y, pred))\n",
    "    sgd = opts.GradientDescent(core.DefaultGraph, loss, lr)\n",
    "    # 开始训练\n",
    "    for ep in range(1, epoch + 1):\n",
    "        bs_idx = 0  # 批次计数\n",
    "        # 这是一个epoch的过程\n",
    "        for i, (feat, lab) in enumerate(zip(xs, ys)):\n",
    "            x.setValue(np.mat(feat).T)\n",
    "            y.setValue(np.mat(lab))\n",
    "            # # 前向\n",
    "            # loss.forward()\n",
    "            # # 反向\n",
    "            # w.backward(loss)\n",
    "            # b.backward(loss)\n",
    "            # # 更新参数\n",
    "            # w.step(lr)\n",
    "            # b.step(lr)\n",
    "            # # 清除图中的jacobi\n",
    "            # core.DefaultGraph.clearAllJacobis()\n",
    "            # 上面的代码用下面的优化器代替了\n",
    "            sgd.step()\n",
    "            bs_idx += 1\n",
    "            if bs_idx == batch_size:\n",
    "                sgd.update()\n",
    "                bs_idx = 0\n",
    "        # 一个epoch完成后进行评估\n",
    "        preds = []\n",
    "        for feat in xs:\n",
    "            x.setValue(np.mat(feat).T)\n",
    "            predicter.forward()\n",
    "            preds.append(predicter.value[0, 0])  # 结果\n",
    "        preds = np.array(preds) * 2 - 1  # 0/1转为-1/1\n",
    "        acc = (ys == preds).astype(\"uint8\").sum() / len(xs)\n",
    "        print(\"Epoch: {:d}, acc: {:.3f}.\".format(ep, acc))"
   ]
  }
 ],
 "metadata": {
  "interpreter": {
   "hash": "7e464fba058b7062b0b3c4c12c3de33306c3fff5b5acf1746fee001474633a95"
  },
  "kernelspec": {
   "display_name": "Python 3.8.10 64-bit ('iann': conda)",
   "language": "python",
   "name": "python3"
  },
  "language_info": {
   "codemirror_mode": {
    "name": "ipython",
    "version": 3
   },
   "file_extension": ".py",
   "mimetype": "text/x-python",
   "name": "python",
   "nbconvert_exporter": "python",
   "pygments_lexer": "ipython3",
   "version": "3.8.10"
  },
  "orig_nbformat": 4
 },
 "nbformat": 4,
 "nbformat_minor": 2
}
