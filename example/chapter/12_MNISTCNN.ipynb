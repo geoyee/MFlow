{
 "cells": [
  {
   "cell_type": "markdown",
   "metadata": {},
   "source": [
    "# MNIST CNN"
   ]
  },
  {
   "cell_type": "code",
   "execution_count": 1,
   "metadata": {},
   "outputs": [],
   "source": [
    "# 导入\n",
    "import sys\n",
    "\n",
    "sys.path.append(\"E:/dataFiles/github/MFlow\")"
   ]
  },
  {
   "cell_type": "code",
   "execution_count": 2,
   "metadata": {},
   "outputs": [
    {
     "name": "stdout",
     "output_type": "stream",
     "text": [
      "(1000, 784) (1000, 10)\n",
      "[0. 0. 0. 0. 0. 1. 0. 0. 0. 0.]\n"
     ]
    }
   ],
   "source": [
    "# 数据生成\n",
    "import numpy as np\n",
    "from sklearn.datasets import fetch_openml\n",
    "from sklearn.preprocessing import OneHotEncoder\n",
    "\n",
    "# TODO: 不使用sklearn的OneHotEncoder\n",
    "\n",
    "# 加载MNIST数据集\n",
    "xs, labels = fetch_openml(\"mnist_784\", version=1, return_X_y=True)\n",
    "xs, labels  = xs[:1000] / 255, labels.astype(\"uint8\")[:1000]\n",
    "# 转换为one-hot\n",
    "ohe = OneHotEncoder(sparse=False)\n",
    "ys = ohe.fit_transform(labels.reshape(-1, 1))\n",
    "\n",
    "print(xs.shape, ys.shape)\n",
    "print(ys[0])"
   ]
  },
  {
   "cell_type": "code",
   "execution_count": 3,
   "metadata": {},
   "outputs": [
    {
     "name": "stdout",
     "output_type": "stream",
     "text": [
      "Epoch: 1, acc: 0.228.\n",
      "Epoch: 2, acc: 0.801.\n",
      "Epoch: 3, acc: 0.893.\n",
      "Epoch: 4, acc: 0.920.\n",
      "Epoch: 5, acc: 0.949.\n",
      "Epoch: 6, acc: 0.958.\n",
      "Epoch: 7, acc: 0.963.\n",
      "Epoch: 8, acc: 0.974.\n",
      "Epoch: 9, acc: 0.967.\n",
      "Epoch: 10, acc: 0.969.\n"
     ]
    }
   ],
   "source": [
    "# 训练\n",
    "from mflow import core, ops, opts, lays\n",
    "\n",
    "# 超参数\n",
    "lr = 0.005\n",
    "epoch = 10  # 30太久，节约时间\n",
    "batch_size = 32\n",
    "\n",
    "img_size = (28, 28)\n",
    "\n",
    "with core.NameScope(\"MNISTCNN\"):\n",
    "    # 初始化变量\n",
    "    x = core.Variable(size=img_size, trainable=False)\n",
    "    y = core.Variable(size=(10, 1), trainable=False)\n",
    "    # 模型定义\n",
    "    conv1 = lays.Conv([x], img_size, 3, (5, 5), \"ReLU\")\n",
    "    poling1 = lays.Pooling(conv1, (3, 3), (2, 2))\n",
    "    conv2 = lays.Conv(poling1, (14, 14), 3, (3, 3), \"ReLU\")  # 28 / 2\n",
    "    poling2 = lays.Pooling(conv2, (3, 3), (2, 2))\n",
    "    fc1 = lays.Linear(ops.Concat(*poling2), 147, 120, \"ReLU\")  # 3 * 7 * 7\n",
    "    pred = lays.Linear(fc1, 120, 10, None)\n",
    "    predicter = ops.SoftMax(pred)\n",
    "    loss = ops.loss.CrossEntropyWithSoftMax(pred, y)\n",
    "    adam = opts.Adam(core.DefaultGraph, loss, lr)\n",
    "    # 开始训练\n",
    "    for ep in range(1, epoch + 1):\n",
    "        bs_idx = 0  # 批次计数\n",
    "        # 这是一个epoch的过程\n",
    "        for i, (feat, one_hot) in enumerate(zip(xs, ys)):\n",
    "            x.setValue(np.mat(feat).reshape(img_size))\n",
    "            y.setValue(np.mat(one_hot).T)\n",
    "            adam.step()\n",
    "            bs_idx += 1\n",
    "            if bs_idx == batch_size:\n",
    "                adam.update()\n",
    "                bs_idx = 0\n",
    "        # 一个epoch完成后进行评估\n",
    "        preds = []\n",
    "        for feat in xs:\n",
    "            x.setValue(np.mat(feat).reshape(img_size))\n",
    "            predicter.forward()\n",
    "            preds.append(predicter.value.A.ravel())  # 结果\n",
    "        preds = np.array(preds).argmax(axis=1)\n",
    "        acc = (labels == preds).astype(\"uint8\").sum() / len(xs)\n",
    "        print(\"Epoch: {:d}, acc: {:.3f}.\".format(ep, acc))"
   ]
  }
 ],
 "metadata": {
  "interpreter": {
   "hash": "a25450dffbd8ff6afdb60e6b8570ed9b7d168b4425452c653cc1a70a36de1a45"
  },
  "kernelspec": {
   "display_name": "Python 3.8.10 64-bit ('iann': conda)",
   "language": "python",
   "name": "python3"
  },
  "language_info": {
   "codemirror_mode": {
    "name": "ipython",
    "version": 3
   },
   "file_extension": ".py",
   "mimetype": "text/x-python",
   "name": "python",
   "nbconvert_exporter": "python",
   "pygments_lexer": "ipython3",
   "version": "3.8.10"
  },
  "orig_nbformat": 4
 },
 "nbformat": 4,
 "nbformat_minor": 2
}
