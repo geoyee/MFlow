{
 "cells": [
  {
   "cell_type": "markdown",
   "metadata": {},
   "source": [
    "# MNIST"
   ]
  },
  {
   "cell_type": "code",
   "execution_count": 1,
   "metadata": {},
   "outputs": [],
   "source": [
    "# 导入\n",
    "import sys\n",
    "\n",
    "sys.path.append(\"E:/dataFiles/github/MFlow\")"
   ]
  },
  {
   "cell_type": "code",
   "execution_count": 2,
   "metadata": {},
   "outputs": [
    {
     "name": "stdout",
     "output_type": "stream",
     "text": [
      "(5000, 784) (5000, 10)\n",
      "[0. 0. 0. 0. 0. 1. 0. 0. 0. 0.]\n"
     ]
    }
   ],
   "source": [
    "# 数据生成\n",
    "import numpy as np\n",
    "from sklearn.datasets import fetch_openml\n",
    "from sklearn.preprocessing import OneHotEncoder\n",
    "\n",
    "# TODO: 不使用sklearn的OneHotEncoder\n",
    "\n",
    "# 加载MNIST数据集\n",
    "xs, labels = fetch_openml(\"mnist_784\", version=1, return_X_y=True)\n",
    "xs, labels  = xs[:5000] / 255, labels.astype(\"uint8\")[:5000]\n",
    "# 转换为one-hot\n",
    "ohe = OneHotEncoder(sparse=False)\n",
    "ys = ohe.fit_transform(labels.reshape(-1, 1))\n",
    "\n",
    "print(xs.shape, ys.shape)\n",
    "print(ys[0])"
   ]
  },
  {
   "cell_type": "code",
   "execution_count": 3,
   "metadata": {},
   "outputs": [
    {
     "name": "stdout",
     "output_type": "stream",
     "text": [
      "Epoch: 1, acc: 0.866.\n",
      "Epoch: 2, acc: 0.913.\n",
      "Epoch: 3, acc: 0.923.\n",
      "Epoch: 4, acc: 0.931.\n",
      "Epoch: 5, acc: 0.939.\n",
      "Epoch: 6, acc: 0.947.\n",
      "Epoch: 7, acc: 0.953.\n",
      "Epoch: 8, acc: 0.958.\n",
      "Epoch: 9, acc: 0.963.\n",
      "Epoch: 10, acc: 0.967.\n",
      "Epoch: 11, acc: 0.972.\n",
      "Epoch: 12, acc: 0.974.\n",
      "Epoch: 13, acc: 0.977.\n",
      "Epoch: 14, acc: 0.981.\n",
      "Epoch: 15, acc: 0.982.\n",
      "Epoch: 16, acc: 0.984.\n",
      "Epoch: 17, acc: 0.986.\n",
      "Epoch: 18, acc: 0.987.\n",
      "Epoch: 19, acc: 0.989.\n",
      "Epoch: 20, acc: 0.990.\n",
      "Epoch: 21, acc: 0.992.\n",
      "Epoch: 22, acc: 0.994.\n",
      "Epoch: 23, acc: 0.995.\n",
      "Epoch: 24, acc: 0.996.\n",
      "Epoch: 25, acc: 0.997.\n",
      "Epoch: 26, acc: 0.998.\n",
      "Epoch: 27, acc: 0.999.\n",
      "Epoch: 28, acc: 0.999.\n",
      "Epoch: 29, acc: 0.999.\n",
      "Epoch: 30, acc: 0.999.\n"
     ]
    }
   ],
   "source": [
    "# 训练\n",
    "from mflow import core, ops, opts, lays\n",
    "\n",
    "# 超参数\n",
    "lr = 0.001\n",
    "epoch = 30\n",
    "batch_size = 64\n",
    "\n",
    "with core.NameScope(\"MNIST\"):\n",
    "    # 初始化变量\n",
    "    x = core.Variable(size=(784, 1), trainable=False)\n",
    "    y = core.Variable(size=(10, 1), trainable=False)\n",
    "    # 模型定义\n",
    "    hidden_1 = lays.Linear(x, 784, 100, \"ReLU\")\n",
    "    pred = lays.Linear(hidden_1, 100, 10, None)\n",
    "    predicter = ops.SoftMax(pred)\n",
    "    loss = ops.loss.CrossEntropyWithSoftMax(pred, y)\n",
    "    adam = opts.Adam(core.DefaultGraph, loss, lr)\n",
    "    # 开始训练\n",
    "    for ep in range(1, epoch + 1):\n",
    "        bs_idx = 0  # 批次计数\n",
    "        # 这是一个epoch的过程\n",
    "        for i, (feat, one_hot) in enumerate(zip(xs, ys)):\n",
    "            x.setValue(np.mat(feat).T)\n",
    "            y.setValue(np.mat(one_hot).T)\n",
    "            adam.step()\n",
    "            bs_idx += 1\n",
    "            if bs_idx == batch_size:\n",
    "                adam.update()\n",
    "                bs_idx = 0\n",
    "        # 一个epoch完成后进行评估\n",
    "        preds = []\n",
    "        for feat in xs:\n",
    "            x.setValue(np.mat(feat).T)\n",
    "            predicter.forward()\n",
    "            preds.append(predicter.value.A.ravel())  # 结果\n",
    "        preds = np.array(preds).argmax(axis=1)\n",
    "        acc = (labels == preds).astype(\"uint8\").sum() / len(xs)\n",
    "        print(\"Epoch: {:d}, acc: {:.3f}.\".format(ep, acc))"
   ]
  }
 ],
 "metadata": {
  "interpreter": {
   "hash": "7e464fba058b7062b0b3c4c12c3de33306c3fff5b5acf1746fee001474633a95"
  },
  "kernelspec": {
   "display_name": "Python 3.8.10 64-bit ('iann': conda)",
   "language": "python",
   "name": "python3"
  },
  "language_info": {
   "codemirror_mode": {
    "name": "ipython",
    "version": 3
   },
   "file_extension": ".py",
   "mimetype": "text/x-python",
   "name": "python",
   "nbconvert_exporter": "python",
   "pygments_lexer": "ipython3",
   "version": "3.8.10"
  },
  "orig_nbformat": 4
 },
 "nbformat": 4,
 "nbformat_minor": 2
}
