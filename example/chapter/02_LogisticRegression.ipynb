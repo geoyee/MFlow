{
 "cells": [
  {
   "cell_type": "markdown",
   "metadata": {},
   "source": [
    "# Logistic Regression"
   ]
  },
  {
   "cell_type": "code",
   "execution_count": 1,
   "metadata": {},
   "outputs": [],
   "source": [
    "# 导入\n",
    "import sys\n",
    "\n",
    "sys.path.append(\"E:/dataFiles/github/MFlow\")"
   ]
  },
  {
   "cell_type": "code",
   "execution_count": 2,
   "metadata": {},
   "outputs": [
    {
     "name": "stdout",
     "output_type": "stream",
     "text": [
      "(1000, 3) (1000,)\n",
      "[173.47752491  84.65509472  16.05013585] 1.0\n"
     ]
    }
   ],
   "source": [
    "# 数据生成\n",
    "from data.generater import sexData\n",
    "\n",
    "xs, ys = sexData(500)\n",
    "\n",
    "print(xs.shape, ys.shape)\n",
    "print(xs[0], ys[0])"
   ]
  },
  {
   "cell_type": "code",
   "execution_count": 3,
   "metadata": {},
   "outputs": [
    {
     "name": "stdout",
     "output_type": "stream",
     "text": [
      "Epoch: 1, acc: 0.500.\n",
      "Epoch: 2, acc: 0.522.\n",
      "Epoch: 3, acc: 0.611.\n",
      "Epoch: 4, acc: 0.708.\n",
      "Epoch: 5, acc: 0.764.\n",
      "Epoch: 6, acc: 0.802.\n",
      "Epoch: 7, acc: 0.835.\n",
      "Epoch: 8, acc: 0.861.\n",
      "Epoch: 9, acc: 0.869.\n",
      "Epoch: 10, acc: 0.878.\n",
      "Epoch: 11, acc: 0.883.\n",
      "Epoch: 12, acc: 0.893.\n",
      "Epoch: 13, acc: 0.897.\n",
      "Epoch: 14, acc: 0.898.\n",
      "Epoch: 15, acc: 0.897.\n",
      "Epoch: 16, acc: 0.906.\n",
      "Epoch: 17, acc: 0.908.\n",
      "Epoch: 18, acc: 0.909.\n",
      "Epoch: 19, acc: 0.913.\n",
      "Epoch: 20, acc: 0.916.\n",
      "Epoch: 21, acc: 0.918.\n",
      "Epoch: 22, acc: 0.917.\n",
      "Epoch: 23, acc: 0.918.\n",
      "Epoch: 24, acc: 0.919.\n",
      "Epoch: 25, acc: 0.923.\n",
      "Epoch: 26, acc: 0.926.\n",
      "Epoch: 27, acc: 0.925.\n",
      "Epoch: 28, acc: 0.925.\n",
      "Epoch: 29, acc: 0.929.\n",
      "Epoch: 30, acc: 0.928.\n",
      "Epoch: 31, acc: 0.928.\n",
      "Epoch: 32, acc: 0.929.\n",
      "Epoch: 33, acc: 0.929.\n",
      "Epoch: 34, acc: 0.929.\n",
      "Epoch: 35, acc: 0.929.\n",
      "Epoch: 36, acc: 0.930.\n",
      "Epoch: 37, acc: 0.932.\n",
      "Epoch: 38, acc: 0.932.\n",
      "Epoch: 39, acc: 0.932.\n",
      "Epoch: 40, acc: 0.932.\n",
      "Epoch: 41, acc: 0.932.\n",
      "Epoch: 42, acc: 0.933.\n",
      "Epoch: 43, acc: 0.933.\n",
      "Epoch: 44, acc: 0.933.\n",
      "Epoch: 45, acc: 0.933.\n",
      "Epoch: 46, acc: 0.934.\n",
      "Epoch: 47, acc: 0.934.\n",
      "Epoch: 48, acc: 0.934.\n",
      "Epoch: 49, acc: 0.936.\n",
      "Epoch: 50, acc: 0.936.\n"
     ]
    }
   ],
   "source": [
    "# 训练\n",
    "import numpy as np\n",
    "from mflow import core, ops, opts\n",
    "\n",
    "# 超参数\n",
    "lr = 0.0001\n",
    "epoch = 50\n",
    "batch_size = 16\n",
    "\n",
    "with core.NameScope(\"LogisticRegression\"):\n",
    "    # 初始化变量\n",
    "    x = core.Variable(size=(3, 1), trainable=False)\n",
    "    y = core.Variable(size=(1, 1), trainable=False)\n",
    "    w = core.Variable(size=(1, 3), trainable=True)\n",
    "    b = core.Variable(size=(1, 1), trainable=True)\n",
    "    # 模型定义\n",
    "    pred = ops.Add(ops.MatMul(w, x), b)\n",
    "    predicter = ops.Logistic(pred)\n",
    "    loss = ops.loss.LogLoss(ops.Multiply(y, pred))\n",
    "    adam = opts.Adam(core.DefaultGraph, loss, lr)\n",
    "    # 开始训练\n",
    "    for ep in range(1, epoch + 1):\n",
    "        bs_idx = 0  # 批次计数\n",
    "        # 这是一个epoch的过程\n",
    "        for i, (feat, lab) in enumerate(zip(xs, ys)):\n",
    "            x.setValue(np.mat(feat).T)\n",
    "            y.setValue(np.mat(lab))\n",
    "            adam.step()\n",
    "            bs_idx += 1\n",
    "            if bs_idx == batch_size:\n",
    "                adam.update()\n",
    "                bs_idx = 0\n",
    "        # 一个epoch完成后进行评估\n",
    "        preds = []\n",
    "        for feat in xs:\n",
    "            x.setValue(np.mat(feat).T) \n",
    "            predicter.forward()\n",
    "            preds.append(predicter.value[0, 0])  # 结果\n",
    "        preds = (np.array(preds) > 0.5).astype(\"int\") * 2 - 1  # 0/1转为-1/1\n",
    "        acc = (ys == preds).astype(\"uint8\").sum() / len(xs)\n",
    "        print(\"Epoch: {:d}, acc: {:.3f}.\".format(ep, acc))"
   ]
  }
 ],
 "metadata": {
  "interpreter": {
   "hash": "7e464fba058b7062b0b3c4c12c3de33306c3fff5b5acf1746fee001474633a95"
  },
  "kernelspec": {
   "display_name": "Python 3.8.10 64-bit ('iann': conda)",
   "language": "python",
   "name": "python3"
  },
  "language_info": {
   "codemirror_mode": {
    "name": "ipython",
    "version": 3
   },
   "file_extension": ".py",
   "mimetype": "text/x-python",
   "name": "python",
   "nbconvert_exporter": "python",
   "pygments_lexer": "ipython3",
   "version": "3.8.10"
  },
  "orig_nbformat": 4
 },
 "nbformat": 4,
 "nbformat_minor": 2
}
