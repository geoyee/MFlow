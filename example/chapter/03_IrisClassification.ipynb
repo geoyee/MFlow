{
 "cells": [
  {
   "cell_type": "markdown",
   "metadata": {},
   "source": [
    "# Iris Classification"
   ]
  },
  {
   "cell_type": "code",
   "execution_count": 1,
   "metadata": {},
   "outputs": [],
   "source": [
    "# 导入\n",
    "import sys\n",
    "\n",
    "sys.path.append(\"E:/dataFiles/github/MFlow\")"
   ]
  },
  {
   "cell_type": "code",
   "execution_count": 2,
   "metadata": {},
   "outputs": [
    {
     "name": "stdout",
     "output_type": "stream",
     "text": [
      "(150, 4) (150, 3)\n",
      "[4.8 3.1 1.6 0.2] [1. 0. 0.]\n"
     ]
    }
   ],
   "source": [
    "# 数据生成\n",
    "import numpy as np\n",
    "import pandas as pd\n",
    "from sklearn.preprocessing import LabelEncoder, OneHotEncoder\n",
    "\n",
    "# TODO: 不使用pandas以及sklearn\n",
    "\n",
    "# 数据读取，并去掉第一列\n",
    "data = pd.read_csv(\"E:/dataFiles/github/MFlow/assets/Iris.csv\").drop(\"Id\", axis=1)\n",
    "# 打乱样本\n",
    "data = data.sample(len(data), replace=False)\n",
    "xs = data[[\"SepalLengthCm\", \"SepalWidthCm\", \"PetalLengthCm\", \"PetalWidthCm\"]].values\n",
    "# 将字符串标签替换为数字\n",
    "le = LabelEncoder()\n",
    "label = le.fit_transform(data[\"Species\"])\n",
    "# 转换为one-hot\n",
    "ohe = OneHotEncoder(sparse=False)\n",
    "ys = ohe.fit_transform(label.reshape(-1, 1))\n",
    "\n",
    "print(xs.shape, ys.shape)\n",
    "print(xs[0], ys[0])"
   ]
  },
  {
   "cell_type": "code",
   "execution_count": 3,
   "metadata": {},
   "outputs": [
    {
     "name": "stdout",
     "output_type": "stream",
     "text": [
      "Epoch: 1, acc: 0.567.\n",
      "Epoch: 2, acc: 0.667.\n",
      "Epoch: 3, acc: 0.707.\n",
      "Epoch: 4, acc: 0.840.\n",
      "Epoch: 5, acc: 0.820.\n",
      "Epoch: 6, acc: 0.907.\n",
      "Epoch: 7, acc: 0.900.\n",
      "Epoch: 8, acc: 0.933.\n",
      "Epoch: 9, acc: 0.947.\n",
      "Epoch: 10, acc: 0.953.\n",
      "Epoch: 11, acc: 0.953.\n",
      "Epoch: 12, acc: 0.953.\n",
      "Epoch: 13, acc: 0.953.\n",
      "Epoch: 14, acc: 0.953.\n",
      "Epoch: 15, acc: 0.953.\n",
      "Epoch: 16, acc: 0.960.\n",
      "Epoch: 17, acc: 0.967.\n",
      "Epoch: 18, acc: 0.967.\n",
      "Epoch: 19, acc: 0.967.\n",
      "Epoch: 20, acc: 0.967.\n",
      "Epoch: 21, acc: 0.967.\n",
      "Epoch: 22, acc: 0.973.\n",
      "Epoch: 23, acc: 0.973.\n",
      "Epoch: 24, acc: 0.973.\n",
      "Epoch: 25, acc: 0.973.\n",
      "Epoch: 26, acc: 0.973.\n",
      "Epoch: 27, acc: 0.980.\n",
      "Epoch: 28, acc: 0.987.\n",
      "Epoch: 29, acc: 0.987.\n",
      "Epoch: 30, acc: 0.980.\n"
     ]
    }
   ],
   "source": [
    "# 训练\n",
    "from mflow import core, ops, opts\n",
    "\n",
    "# 超参数\n",
    "lr = 0.02\n",
    "epoch = 30\n",
    "batch_size = 16\n",
    "\n",
    "with core.NameScope(\"IrisClassification\"):\n",
    "    # 初始化变量\n",
    "    x = core.Variable(size=(4, 1), trainable=False)\n",
    "    y = core.Variable(size=(3, 1), trainable=False)\n",
    "    w = core.Variable(size=(3, 4), trainable=True)\n",
    "    b = core.Variable(size=(3, 1), trainable=True)\n",
    "    # 模型定义\n",
    "    pred = ops.Add(ops.MatMul(w, x), b)\n",
    "    predicter = ops.SoftMax(pred)\n",
    "    loss = ops.loss.CrossEntropyWithSoftMax(pred, y)\n",
    "    adam = opts.Adam(core.DefaultGraph, loss, lr)\n",
    "    # 开始训练\n",
    "    for ep in range(1, epoch + 1):\n",
    "        bs_idx = 0  # 批次计数\n",
    "        # 这是一个epoch的过程\n",
    "        for i, (feat, one_hot) in enumerate(zip(xs, ys)):\n",
    "            x.setValue(np.mat(feat).T)\n",
    "            y.setValue(np.mat(one_hot).T)\n",
    "            adam.step()\n",
    "            bs_idx += 1\n",
    "            if bs_idx == batch_size:\n",
    "                adam.update()\n",
    "                bs_idx = 0\n",
    "        # 一个epoch完成后进行评估\n",
    "        preds = []\n",
    "        for feat in xs:\n",
    "            x.setValue(np.mat(feat).T)\n",
    "            predicter.forward()\n",
    "            preds.append(predicter.value.A.ravel())  # 结果\n",
    "        preds = np.array(preds).argmax(axis=1)\n",
    "        acc = (label == preds).astype(\"uint8\").sum() / len(xs)\n",
    "        print(\"Epoch: {:d}, acc: {:.3f}.\".format(ep, acc))"
   ]
  }
 ],
 "metadata": {
  "interpreter": {
   "hash": "a25450dffbd8ff6afdb60e6b8570ed9b7d168b4425452c653cc1a70a36de1a45"
  },
  "kernelspec": {
   "display_name": "Python 3.8.10 64-bit ('iann': conda)",
   "language": "python",
   "name": "python3"
  },
  "language_info": {
   "codemirror_mode": {
    "name": "ipython",
    "version": 3
   },
   "file_extension": ".py",
   "mimetype": "text/x-python",
   "name": "python",
   "nbconvert_exporter": "python",
   "pygments_lexer": "ipython3",
   "version": "3.8.10"
  },
  "orig_nbformat": 4
 },
 "nbformat": 4,
 "nbformat_minor": 2
}
