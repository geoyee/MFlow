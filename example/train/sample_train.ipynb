{
 "cells": [
  {
   "cell_type": "markdown",
   "metadata": {},
   "source": [
    "# 全流程训练保存及预测\n",
    "\n",
    "## 1. 训练及保存模型"
   ]
  },
  {
   "cell_type": "code",
   "execution_count": 1,
   "metadata": {},
   "outputs": [],
   "source": [
    "# 导入\n",
    "import sys\n",
    "\n",
    "sys.path.append(\"E:/dataFiles/github/MFlow\")"
   ]
  },
  {
   "cell_type": "code",
   "execution_count": 2,
   "metadata": {},
   "outputs": [
    {
     "name": "stdout",
     "output_type": "stream",
     "text": [
      "100 100\n",
      "(28, 28) (10, 1)\n"
     ]
    }
   ],
   "source": [
    "# 数据生成\n",
    "import numpy as np\n",
    "from sklearn.datasets import fetch_openml\n",
    "from sklearn.preprocessing import OneHotEncoder\n",
    "\n",
    "# 加载MNIST数据集\n",
    "xs, labels = fetch_openml(\"mnist_784\", version=1, return_X_y=True)\n",
    "xs, labels  = xs[:100] / 255, labels.astype(\"uint8\")[:100]\n",
    "# 转换为one-hot\n",
    "ohe = OneHotEncoder(sparse=False)\n",
    "ys = ohe.fit_transform(labels.reshape(-1, 1))\n",
    "# 预处理\n",
    "x_list = []\n",
    "y_list = []\n",
    "for i in range(xs.shape[0]):\n",
    "    x_list.append(np.array(xs[i]).reshape(28, 28))\n",
    "    y_list.append(np.array(ys[i]).reshape(10, 1))\n",
    "xs = x_list\n",
    "ys = y_list\n",
    "\n",
    "print(len(xs), len(ys))\n",
    "print(xs[0].shape, ys[0].shape)"
   ]
  },
  {
   "cell_type": "code",
   "execution_count": 3,
   "metadata": {},
   "outputs": [],
   "source": [
    "from mflow import core, metrics, models, ops, opts\n",
    "\n",
    "# 超参数\n",
    "lr = 0.05\n",
    "epoch = 5\n",
    "batch_size = 32\n",
    "\n",
    "# 模型\n",
    "x, output, predicter = models.MnistNet()\n",
    "y = core.Variable(size=(10, 1), trainable=False)\n",
    "loss = ops.loss.CrossEntropyWithSoftMax(output, y)\n",
    "optimizer = opts.Adam(core.DefaultGraph, loss, lr)\n",
    "metrics_list = [\n",
    "    metrics.Accuracy(predicter, y, saved=True),\n",
    "    metrics.Precision(predicter, y, saved=True),\n",
    "    metrics.Recall(predicter, y, saved=True)\n",
    "]"
   ]
  },
  {
   "cell_type": "code",
   "execution_count": 4,
   "metadata": {},
   "outputs": [
    {
     "name": "stdout",
     "output_type": "stream",
     "text": [
      "[Epoch 1] eval metrics: Accuracy: 0.8400 Precision: 0.2000 Recall: 0.2000 \n",
      "[Epoch 2] eval metrics: Accuracy: 0.8200 Precision: 0.1000 Recall: 0.1000 \n",
      "[Epoch 3] eval metrics: Accuracy: 0.8133 Precision: 0.0667 Recall: 0.0667 \n",
      "[Epoch 4] eval metrics: Accuracy: 0.8200 Precision: 0.1000 Recall: 0.1000 \n",
      "[Epoch 5] eval metrics: Accuracy: 0.8240 Precision: 0.1200 Recall: 0.1200 \n"
     ]
    }
   ],
   "source": [
    "from mflow import engine\n",
    "\n",
    "# 训练\n",
    "trainer = engine.SimpleTrainer(\n",
    "    [x], y, loss, optimizer, epoch, batch_size, metrics_ops=metrics_list\n",
    ")\n",
    "trainer.trainEval(\n",
    "    {x.name: xs[:90]}, ys[:90], \n",
    "    {x.name: xs[90:]}, ys[90:]\n",
    ")"
   ]
  },
  {
   "cell_type": "code",
   "execution_count": 5,
   "metadata": {},
   "outputs": [
    {
     "name": "stdout",
     "output_type": "stream",
     "text": [
      "Save model into file: output\\MnistNet.json.\n",
      "Save weights to file: output\\MnistNet.npz.\n"
     ]
    }
   ],
   "source": [
    "# 保存\n",
    "saver = engine.Saver(\"output\")\n",
    "saver.save(\"MnistNet\", core.DefaultGraph)"
   ]
  },
  {
   "cell_type": "markdown",
   "metadata": {},
   "source": [
    "## 2. 加载模型及预测"
   ]
  },
  {
   "cell_type": "code",
   "execution_count": 1,
   "metadata": {},
   "outputs": [],
   "source": [
    "# 导入\n",
    "import sys\n",
    "\n",
    "sys.path.append(\"E:/dataFiles/github/MFlow\")"
   ]
  },
  {
   "cell_type": "code",
   "execution_count": 2,
   "metadata": {},
   "outputs": [
    {
     "name": "stdout",
     "output_type": "stream",
     "text": [
      "Target node Input/Variable:0 of type Variable not exists, try to create the instance\n",
      "Target node Model/Variable:1 of type Variable not exists, try to create the instance\n",
      "Target node Model/Variable:2 of type Variable not exists, try to create the instance\n",
      "Target node Model/Convolve:3 of type Convolve not exists, try to create the instance\n",
      "Target node Model/Add:4 of type Add not exists, try to create the instance\n",
      "Target node Model/Variable:5 of type Variable not exists, try to create the instance\n",
      "Target node Model/ScalarMultiply:6 of type ScalarMultiply not exists, try to create the instance\n",
      "Target node Model/Add:7 of type Add not exists, try to create the instance\n",
      "Target node Model/ReLU:8 of type ReLU not exists, try to create the instance\n",
      "Target node Model/Variable:9 of type Variable not exists, try to create the instance\n",
      "Target node Model/Convolve:10 of type Convolve not exists, try to create the instance\n",
      "Target node Model/Add:11 of type Add not exists, try to create the instance\n",
      "Target node Model/Variable:12 of type Variable not exists, try to create the instance\n",
      "Target node Model/ScalarMultiply:13 of type ScalarMultiply not exists, try to create the instance\n",
      "Target node Model/Add:14 of type Add not exists, try to create the instance\n",
      "Target node Model/ReLU:15 of type ReLU not exists, try to create the instance\n",
      "Target node Model/Variable:16 of type Variable not exists, try to create the instance\n",
      "Target node Model/Convolve:17 of type Convolve not exists, try to create the instance\n",
      "Target node Model/Add:18 of type Add not exists, try to create the instance\n",
      "Target node Model/Variable:19 of type Variable not exists, try to create the instance\n",
      "Target node Model/ScalarMultiply:20 of type ScalarMultiply not exists, try to create the instance\n",
      "Target node Model/Add:21 of type Add not exists, try to create the instance\n",
      "Target node Model/ReLU:22 of type ReLU not exists, try to create the instance\n",
      "Target node Model/MaxPooling:23 of type MaxPooling not exists, try to create the instance\n",
      "Target node Model/MaxPooling:24 of type MaxPooling not exists, try to create the instance\n",
      "Target node Model/MaxPooling:25 of type MaxPooling not exists, try to create the instance\n",
      "Target node Model/Variable:26 of type Variable not exists, try to create the instance\n",
      "Target node Model/Variable:27 of type Variable not exists, try to create the instance\n",
      "Target node Model/Convolve:28 of type Convolve not exists, try to create the instance\n",
      "Target node Model/Variable:29 of type Variable not exists, try to create the instance\n",
      "Target node Model/Convolve:30 of type Convolve not exists, try to create the instance\n",
      "Target node Model/Variable:31 of type Variable not exists, try to create the instance\n",
      "Target node Model/Convolve:32 of type Convolve not exists, try to create the instance\n",
      "Target node Model/Add:33 of type Add not exists, try to create the instance\n",
      "Target node Model/Variable:34 of type Variable not exists, try to create the instance\n",
      "Target node Model/ScalarMultiply:35 of type ScalarMultiply not exists, try to create the instance\n",
      "Target node Model/Add:36 of type Add not exists, try to create the instance\n",
      "Target node Model/ReLU:37 of type ReLU not exists, try to create the instance\n",
      "Target node Model/Variable:38 of type Variable not exists, try to create the instance\n",
      "Target node Model/Convolve:39 of type Convolve not exists, try to create the instance\n",
      "Target node Model/Variable:40 of type Variable not exists, try to create the instance\n",
      "Target node Model/Convolve:41 of type Convolve not exists, try to create the instance\n",
      "Target node Model/Variable:42 of type Variable not exists, try to create the instance\n",
      "Target node Model/Convolve:43 of type Convolve not exists, try to create the instance\n",
      "Target node Model/Add:44 of type Add not exists, try to create the instance\n",
      "Target node Model/Variable:45 of type Variable not exists, try to create the instance\n",
      "Target node Model/ScalarMultiply:46 of type ScalarMultiply not exists, try to create the instance\n",
      "Target node Model/Add:47 of type Add not exists, try to create the instance\n",
      "Target node Model/ReLU:48 of type ReLU not exists, try to create the instance\n",
      "Target node Model/Variable:49 of type Variable not exists, try to create the instance\n",
      "Target node Model/Convolve:50 of type Convolve not exists, try to create the instance\n",
      "Target node Model/Variable:51 of type Variable not exists, try to create the instance\n",
      "Target node Model/Convolve:52 of type Convolve not exists, try to create the instance\n",
      "Target node Model/Variable:53 of type Variable not exists, try to create the instance\n",
      "Target node Model/Convolve:54 of type Convolve not exists, try to create the instance\n",
      "Target node Model/Add:55 of type Add not exists, try to create the instance\n",
      "Target node Model/Variable:56 of type Variable not exists, try to create the instance\n",
      "Target node Model/ScalarMultiply:57 of type ScalarMultiply not exists, try to create the instance\n",
      "Target node Model/Add:58 of type Add not exists, try to create the instance\n",
      "Target node Model/ReLU:59 of type ReLU not exists, try to create the instance\n",
      "Target node Model/MaxPooling:60 of type MaxPooling not exists, try to create the instance\n",
      "Target node Model/MaxPooling:61 of type MaxPooling not exists, try to create the instance\n",
      "Target node Model/MaxPooling:62 of type MaxPooling not exists, try to create the instance\n",
      "Target node Model/Concat:63 of type Concat not exists, try to create the instance\n",
      "Target node Model/Variable:64 of type Variable not exists, try to create the instance\n",
      "Target node Model/Variable:65 of type Variable not exists, try to create the instance\n",
      "Target node Model/MatMul:66 of type MatMul not exists, try to create the instance\n",
      "Target node Model/Add:67 of type Add not exists, try to create the instance\n",
      "Target node Model/ReLU:68 of type ReLU not exists, try to create the instance\n",
      "Target node Model/Variable:69 of type Variable not exists, try to create the instance\n",
      "Target node Model/Variable:70 of type Variable not exists, try to create the instance\n",
      "Target node Model/MatMul:71 of type MatMul not exists, try to create the instance\n",
      "Target node Model/Add:72 of type Add not exists, try to create the instance\n",
      "Target node SoftMax/SoftMax:73 of type SoftMax not exists, try to create the instance\n",
      "Target node Variable:74 of type Variable not exists, try to create the instance\n",
      "Target node CrossEntropyWithSoftMax:75 of type CrossEntropyWithSoftMax not exists, try to create the instance\n",
      "Target node Accuracy:76 of type Accuracy not exists, try to create the instance\n",
      "Target node Precision:77 of type Precision not exists, try to create the instance\n",
      "Target node Recall:78 of type Recall not exists, try to create the instance\n",
      "Load and restore model from output\\MnistNet.\n"
     ]
    }
   ],
   "source": [
    "from mflow import core, engine\n",
    "\n",
    "# 加载模型和参数\n",
    "saver = engine.Saver(\"output\")\n",
    "saver.load(\"MnistNet\", core.DefaultGraph)\n",
    "x = core.getNodeByName(\"Input/Variable:0\")\n",
    "y = core.getNodeByName(\"Variable:74\")\n",
    "predicter = core.getNodeByName(\"SoftMax/SoftMax:73\")"
   ]
  },
  {
   "cell_type": "code",
   "execution_count": 3,
   "metadata": {},
   "outputs": [
    {
     "name": "stdout",
     "output_type": "stream",
     "text": [
      "100 100\n",
      "(28, 28) (10, 1)\n"
     ]
    }
   ],
   "source": [
    "# 数据生成\n",
    "import numpy as np\n",
    "from sklearn.datasets import fetch_openml\n",
    "from sklearn.preprocessing import OneHotEncoder\n",
    "\n",
    "# 加载MNIST数据集\n",
    "xs, labels = fetch_openml(\"mnist_784\", version=1, return_X_y=True)\n",
    "xs, labels  = xs[100:200] / 255, labels.astype(\"uint8\")[100:200]\n",
    "# 转换为one-hot\n",
    "ohe = OneHotEncoder(sparse=False)\n",
    "ys = ohe.fit_transform(labels.reshape(-1, 1))\n",
    "# 预处理\n",
    "x_list = []\n",
    "y_list = []\n",
    "for i in range(xs.shape[0]):\n",
    "    x_list.append(np.array(xs[i]).reshape(28, 28))\n",
    "    y_list.append(np.array(ys[i]).reshape(10, 1))\n",
    "xs = x_list\n",
    "ys = y_list\n",
    "\n",
    "print(len(xs), len(ys))\n",
    "print(xs[0].shape, ys[0].shape)"
   ]
  },
  {
   "cell_type": "code",
   "execution_count": 4,
   "metadata": {},
   "outputs": [
    {
     "name": "stdout",
     "output_type": "stream",
     "text": [
      "accuracy: 0.832.\n"
     ]
    }
   ],
   "source": [
    "import numpy as np\n",
    "from mflow import core, metrics\n",
    "\n",
    "accuracy = metrics.Accuracy(predicter, y)\n",
    "\n",
    "# 评估\n",
    "for index in range(len(xs)):\n",
    "    features = xs[index]\n",
    "    label_onehot = ys[index]\n",
    "    x.setValue(np.mat(features))\n",
    "    y.setValue(np.mat(label_onehot))\n",
    "    predicter.forward()\n",
    "    accuracy.forward()\n",
    "\n",
    "print(\"accuracy: {}.\".format(accuracy.value))"
   ]
  },
  {
   "cell_type": "code",
   "execution_count": 6,
   "metadata": {},
   "outputs": [
    {
     "data": {
      "image/png": "[encoded data removed]",
      "text/plain": [
       "<Figure size 432x288 with 1 Axes>"
      ]
     },
     "metadata": {
      "needs_background": "light"
     },
     "output_type": "display_data"
    },
    {
     "name": "stdout",
     "output_type": "stream",
     "text": [
      "Infer: 1.\n"
     ]
    }
   ],
   "source": [
    "import matplotlib.pyplot as plt\n",
    "\n",
    "%matplotlib inline\n",
    "\n",
    "data = xs[24]\n",
    "plt.imshow(data)\n",
    "plt.show()\n",
    "\n",
    "x.setValue(np.mat(data))\n",
    "predicter.forward()\n",
    "print(\"Infer: {}.\".format(np.argmax(predicter.value)))"
   ]
  }
 ],
 "metadata": {
  "interpreter": {
   "hash": "a25450dffbd8ff6afdb60e6b8570ed9b7d168b4425452c653cc1a70a36de1a45"
  },
  "kernelspec": {
   "display_name": "Python 3.8.10 64-bit ('iann': conda)",
   "language": "python",
   "name": "python3"
  },
  "language_info": {
   "codemirror_mode": {
    "name": "ipython",
    "version": 3
   },
   "file_extension": ".py",
   "mimetype": "text/x-python",
   "name": "python",
   "nbconvert_exporter": "python",
   "pygments_lexer": "ipython3",
   "version": "3.8.10"
  },
  "orig_nbformat": 4
 },
 "nbformat": 4,
 "nbformat_minor": 2
}
