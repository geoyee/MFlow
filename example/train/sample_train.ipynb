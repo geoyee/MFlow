{
 "cells": [
  {
   "cell_type": "markdown",
   "metadata": {},
   "source": [
    "# 全流程训练保存及预测\n",
    "\n",
    "## 1. 训练及保存模型"
   ]
  },
  {
   "cell_type": "code",
   "execution_count": 1,
   "metadata": {},
   "outputs": [],
   "source": [
    "# 导入\n",
    "import sys\n",
    "\n",
    "sys.path.append(\"E:/dataFiles/github/MFlow\")"
   ]
  },
  {
   "cell_type": "code",
   "execution_count": 2,
   "metadata": {},
   "outputs": [
    {
     "name": "stdout",
     "output_type": "stream",
     "text": [
      "1000 1000\n",
      "(28, 28) (10, 1)\n"
     ]
    }
   ],
   "source": [
    "# 数据生成\n",
    "import numpy as np\n",
    "from sklearn.datasets import fetch_openml\n",
    "from sklearn.preprocessing import OneHotEncoder\n",
    "\n",
    "# 加载MNIST数据集\n",
    "xs, labels = fetch_openml(\"mnist_784\", version=1, return_X_y=True)\n",
    "xs, labels  = xs[:1000] / 255, labels.astype(\"uint8\")[:1000]\n",
    "# 转换为one-hot\n",
    "ohe = OneHotEncoder(sparse=False)\n",
    "ys = ohe.fit_transform(labels.reshape(-1, 1))\n",
    "# 预处理\n",
    "x_list = []\n",
    "y_list = []\n",
    "for i in range(xs.shape[0]):\n",
    "    x_list.append(np.array(xs[i]).reshape(28, 28))\n",
    "    y_list.append(np.array(ys[i]).reshape(10, 1))\n",
    "xs = x_list\n",
    "ys = y_list\n",
    "\n",
    "print(len(xs), len(ys))\n",
    "print(xs[0].shape, ys[0].shape)"
   ]
  },
  {
   "cell_type": "code",
   "execution_count": 3,
   "metadata": {},
   "outputs": [],
   "source": [
    "from mflow import core, metrics, models, ops, opts\n",
    "\n",
    "# 超参数\n",
    "lr = 0.005\n",
    "epoch = 10\n",
    "batch_size = 32\n",
    "\n",
    "# 模型\n",
    "x, output, predicter = models.MnistNet()\n",
    "y = core.Variable(size=(10, 1), trainable=False)\n",
    "loss = ops.loss.CrossEntropyWithSoftMax(output, y)\n",
    "optimizer = opts.Adam(core.DefaultGraph, loss, lr)\n",
    "metrics_list = [\n",
    "    metrics.Accuracy(predicter, y, saved=True),\n",
    "    # TODO: 支持多分类\n",
    "    # metrics.Precision(predicter, y, saved=True),\n",
    "    # metrics.Recall(predicter, y, saved=True)\n",
    "]"
   ]
  },
  {
   "cell_type": "code",
   "execution_count": 4,
   "metadata": {},
   "outputs": [
    {
     "name": "stdout",
     "output_type": "stream",
     "text": [
      "[Epoch 1] eval metrics: Accuracy: 0.8220 \n",
      "[Epoch 2] eval metrics: Accuracy: 0.8590 \n",
      "[Epoch 3] eval metrics: Accuracy: 0.8867 \n",
      "[Epoch 4] eval metrics: Accuracy: 0.9040 \n",
      "[Epoch 5] eval metrics: Accuracy: 0.9160 \n",
      "[Epoch 6] eval metrics: Accuracy: 0.9247 \n",
      "[Epoch 7] eval metrics: Accuracy: 0.9306 \n",
      "[Epoch 8] eval metrics: Accuracy: 0.9347 \n",
      "[Epoch 9] eval metrics: Accuracy: 0.9382 \n",
      "[Epoch 10] eval metrics: Accuracy: 0.9418 \n"
     ]
    }
   ],
   "source": [
    "from mflow import engine\n",
    "\n",
    "# 训练\n",
    "trainer = engine.SimpleTrainer(\n",
    "    [x], y, loss, optimizer, epoch, batch_size, metrics_ops=metrics_list\n",
    ")\n",
    "trainer.trainEval(\n",
    "    {x.name: xs[:900]}, ys[:900], \n",
    "    {x.name: xs[900:]}, ys[900:]\n",
    ")"
   ]
  },
  {
   "cell_type": "code",
   "execution_count": 5,
   "metadata": {},
   "outputs": [
    {
     "name": "stdout",
     "output_type": "stream",
     "text": [
      "Save model into file: output\\MnistNet.json.\n",
      "Save weights to file: output\\MnistNet.npz.\n"
     ]
    }
   ],
   "source": [
    "# 保存\n",
    "saver = engine.Saver(\"output\")\n",
    "saver.save(\"MnistNet\", core.DefaultGraph)"
   ]
  },
  {
   "cell_type": "markdown",
   "metadata": {},
   "source": [
    "## 2. 加载模型及预测"
   ]
  },
  {
   "cell_type": "code",
   "execution_count": 6,
   "metadata": {},
   "outputs": [],
   "source": [
    "# 导入\n",
    "import sys\n",
    "\n",
    "sys.path.append(\"E:/dataFiles/github/MFlow\")"
   ]
  },
  {
   "cell_type": "code",
   "execution_count": 7,
   "metadata": {},
   "outputs": [
    {
     "name": "stdout",
     "output_type": "stream",
     "text": [
      "Load and restore model from output\\MnistNet.\n"
     ]
    }
   ],
   "source": [
    "from mflow import core, engine\n",
    "\n",
    "# 加载模型和参数\n",
    "saver = engine.Saver(\"output\")\n",
    "saver.load(\"MnistNet\", core.DefaultGraph)\n",
    "x = core.getNodeByName(\"Input/Variable:0\")\n",
    "y = core.getNodeByName(\"Variable:74\")\n",
    "predicter = core.getNodeByName(\"SoftMax/SoftMax:73\")"
   ]
  },
  {
   "cell_type": "code",
   "execution_count": 8,
   "metadata": {},
   "outputs": [
    {
     "name": "stdout",
     "output_type": "stream",
     "text": [
      "100 100\n",
      "(28, 28) (10, 1)\n"
     ]
    }
   ],
   "source": [
    "# 数据生成\n",
    "import numpy as np\n",
    "from sklearn.datasets import fetch_openml\n",
    "from sklearn.preprocessing import OneHotEncoder\n",
    "\n",
    "# 加载MNIST数据集\n",
    "xs, labels = fetch_openml(\"mnist_784\", version=1, return_X_y=True)\n",
    "xs, labels  = xs[1000:1100] / 255, labels.astype(\"uint8\")[1000:1100]\n",
    "# 转换为one-hot\n",
    "ohe = OneHotEncoder(sparse=False)\n",
    "ys = ohe.fit_transform(labels.reshape(-1, 1))\n",
    "# 预处理\n",
    "x_list = []\n",
    "y_list = []\n",
    "for i in range(xs.shape[0]):\n",
    "    x_list.append(np.array(xs[i]).reshape(28, 28))\n",
    "    y_list.append(np.array(ys[i]).reshape(10, 1))\n",
    "xs = x_list\n",
    "ys = y_list\n",
    "\n",
    "print(len(xs), len(ys))\n",
    "print(xs[0].shape, ys[0].shape)"
   ]
  },
  {
   "cell_type": "code",
   "execution_count": 9,
   "metadata": {},
   "outputs": [
    {
     "name": "stdout",
     "output_type": "stream",
     "text": [
      "accuracy: [[0.968]].\n"
     ]
    }
   ],
   "source": [
    "import numpy as np\n",
    "from mflow import core, metrics\n",
    "\n",
    "accuracy = metrics.Accuracy(predicter, y)\n",
    "\n",
    "# 评估\n",
    "for index in range(len(xs)):\n",
    "    features = xs[index]\n",
    "    label_onehot = ys[index]\n",
    "    x.setValue(np.mat(features))\n",
    "    y.setValue(np.mat(label_onehot))\n",
    "    predicter.forward()\n",
    "    accuracy.forward()\n",
    "\n",
    "print(\"accuracy: {}.\".format(accuracy.value))"
   ]
  },
  {
   "cell_type": "code",
   "execution_count": 10,
   "metadata": {},
   "outputs": [
    {
     "data": {
      "image/png": "[encoded data removed]",
      "text/plain": [
       "<Figure size 432x288 with 1 Axes>"
      ]
     },
     "metadata": {
      "needs_background": "light"
     },
     "output_type": "display_data"
    },
    {
     "name": "stdout",
     "output_type": "stream",
     "text": [
      "Infer: 2.\n"
     ]
    }
   ],
   "source": [
    "import matplotlib.pyplot as plt\n",
    "\n",
    "%matplotlib inline\n",
    "\n",
    "data = xs[48]\n",
    "plt.imshow(data)\n",
    "plt.show()\n",
    "\n",
    "x.setValue(np.mat(data))\n",
    "predicter.forward()\n",
    "print(\"Infer: {}.\".format(np.argmax(predicter.value)))"
   ]
  }
 ],
 "metadata": {
  "interpreter": {
   "hash": "7e464fba058b7062b0b3c4c12c3de33306c3fff5b5acf1746fee001474633a95"
  },
  "kernelspec": {
   "display_name": "Python 3.8.10 64-bit ('iann': conda)",
   "language": "python",
   "name": "python3"
  },
  "language_info": {
   "codemirror_mode": {
    "name": "ipython",
    "version": 3
   },
   "file_extension": ".py",
   "mimetype": "text/x-python",
   "name": "python",
   "nbconvert_exporter": "python",
   "pygments_lexer": "ipython3",
   "version": "3.8.10"
  },
  "orig_nbformat": 4
 },
 "nbformat": 4,
 "nbformat_minor": 2
}
