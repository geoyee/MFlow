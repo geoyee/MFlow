{
 "cells": [
  {
   "cell_type": "markdown",
   "metadata": {},
   "source": [
    "# ADALINE"
   ]
  },
  {
   "cell_type": "code",
   "execution_count": 1,
   "metadata": {},
   "outputs": [],
   "source": [
    "# 导入\n",
    "import sys\n",
    "\n",
    "sys.path.append(\"E:/dataFiles/github/MFlow\")"
   ]
  },
  {
   "cell_type": "code",
   "execution_count": 2,
   "metadata": {},
   "outputs": [
    {
     "name": "stdout",
     "output_type": "stream",
     "text": [
      "(1000, 3) (1000,)\n",
      "[161.03396075  72.45122209  22.11106692] -1.0\n"
     ]
    }
   ],
   "source": [
    "# 数据生成\n",
    "from data.generater import sexData\n",
    "\n",
    "xs, ys = sexData(500)\n",
    "\n",
    "print(xs.shape, ys.shape)\n",
    "print(xs[0], ys[0])"
   ]
  },
  {
   "cell_type": "code",
   "execution_count": 3,
   "metadata": {},
   "outputs": [
    {
     "name": "stdout",
     "output_type": "stream",
     "text": [
      "Epoch: 1, acc: 0.500.\n",
      "Epoch: 2, acc: 0.641.\n",
      "Epoch: 3, acc: 0.852.\n",
      "Epoch: 4, acc: 0.736.\n",
      "Epoch: 5, acc: 0.527.\n",
      "Epoch: 6, acc: 0.767.\n",
      "Epoch: 7, acc: 0.782.\n",
      "Epoch: 8, acc: 0.934.\n",
      "Epoch: 9, acc: 0.536.\n",
      "Epoch: 10, acc: 0.566.\n",
      "Epoch: 11, acc: 0.953.\n",
      "Epoch: 12, acc: 0.954.\n",
      "Epoch: 13, acc: 0.864.\n",
      "Epoch: 14, acc: 0.698.\n",
      "Epoch: 15, acc: 0.779.\n",
      "Epoch: 16, acc: 0.761.\n",
      "Epoch: 17, acc: 0.748.\n",
      "Epoch: 18, acc: 0.755.\n",
      "Epoch: 19, acc: 0.892.\n",
      "Epoch: 20, acc: 0.913.\n",
      "Epoch: 21, acc: 0.770.\n",
      "Epoch: 22, acc: 0.873.\n",
      "Epoch: 23, acc: 0.828.\n",
      "Epoch: 24, acc: 0.930.\n",
      "Epoch: 25, acc: 0.866.\n",
      "Epoch: 26, acc: 0.865.\n",
      "Epoch: 27, acc: 0.893.\n",
      "Epoch: 28, acc: 0.925.\n",
      "Epoch: 29, acc: 0.896.\n",
      "Epoch: 30, acc: 0.870.\n",
      "Epoch: 31, acc: 0.876.\n",
      "Epoch: 32, acc: 0.940.\n",
      "Epoch: 33, acc: 0.886.\n",
      "Epoch: 34, acc: 0.879.\n",
      "Epoch: 35, acc: 0.913.\n",
      "Epoch: 36, acc: 0.921.\n",
      "Epoch: 37, acc: 0.818.\n",
      "Epoch: 38, acc: 0.914.\n",
      "Epoch: 39, acc: 0.924.\n",
      "Epoch: 40, acc: 0.924.\n",
      "Epoch: 41, acc: 0.924.\n",
      "Epoch: 42, acc: 0.951.\n",
      "Epoch: 43, acc: 0.950.\n",
      "Epoch: 44, acc: 0.921.\n",
      "Epoch: 45, acc: 0.859.\n",
      "Epoch: 46, acc: 0.958.\n",
      "Epoch: 47, acc: 0.958.\n",
      "Epoch: 48, acc: 0.860.\n",
      "Epoch: 49, acc: 0.879.\n",
      "Epoch: 50, acc: 0.946.\n"
     ]
    }
   ],
   "source": [
    "# 训练\n",
    "import numpy as np\n",
    "from mflow import core, ops, opts\n",
    "\n",
    "# 超参数\n",
    "lr = 0.0001\n",
    "epoch = 50\n",
    "batch_size = 10\n",
    "\n",
    "with core.NameScope(\"ADALINE\"):\n",
    "    # 初始化变量\n",
    "    x = core.Variable(size=(3, 1), trainable=False)\n",
    "    y = core.Variable(size=(1, 1), trainable=False)\n",
    "    w = core.Variable(size=(1, 3), trainable=True)\n",
    "    b = core.Variable(size=(1, 1), trainable=True)\n",
    "    # 模型定义\n",
    "    pred = ops.Add(ops.MatMal(w, x), b)\n",
    "    predicter = ops.Step(pred)\n",
    "    loss = ops.loss.PerceptionLoss(ops.MatMal(y, pred))\n",
    "    sgd = opts.GradientDescent(core.DefaultGraph, loss, lr)\n",
    "    # 开始训练\n",
    "    for ep in range(1, epoch + 1):\n",
    "        bs_idx = 0  # 批次计数\n",
    "        # 这是一个epoch的过程\n",
    "        for i, (feat, lab) in enumerate(zip(xs, ys)):\n",
    "            x.setValue(np.mat(feat).T)\n",
    "            y.setValue(np.mat(lab))\n",
    "            # # 前向\n",
    "            # loss.forward()\n",
    "            # # 反向\n",
    "            # w.backward(loss)\n",
    "            # b.backward(loss)\n",
    "            # # 更新参数\n",
    "            # w.step(lr)\n",
    "            # b.step(lr)\n",
    "            # # 清除图中的jacobi\n",
    "            # core.DefaultGraph.clearAllJacobis()\n",
    "            # 上面的代码用下面的优化器代替了\n",
    "            sgd.step()\n",
    "            bs_idx += 1\n",
    "            if bs_idx == batch_size:\n",
    "                sgd.update()\n",
    "                bs_idx = 0\n",
    "        # 一个epoch完成后进行评估\n",
    "        preds = []\n",
    "        for feat in xs:\n",
    "            x.setValue(np.mat(feat).T)\n",
    "            predicter.forward()\n",
    "            preds.append(predicter.value[0, 0])  # 结果\n",
    "        preds = np.array(preds) * 2 - 1  # 0/1转为-1/1\n",
    "        acc = (ys == preds).astype(\"uint8\").sum() / len(xs)\n",
    "        print(\"Epoch: {:d}, acc: {:.3f}.\".format(ep, acc))"
   ]
  }
 ],
 "metadata": {
  "interpreter": {
   "hash": "a25450dffbd8ff6afdb60e6b8570ed9b7d168b4425452c653cc1a70a36de1a45"
  },
  "kernelspec": {
   "display_name": "Python 3.8.10 64-bit ('iann': conda)",
   "language": "python",
   "name": "python3"
  },
  "language_info": {
   "codemirror_mode": {
    "name": "ipython",
    "version": 3
   },
   "file_extension": ".py",
   "mimetype": "text/x-python",
   "name": "python",
   "nbconvert_exporter": "python",
   "pygments_lexer": "ipython3",
   "version": "3.8.10"
  },
  "orig_nbformat": 4
 },
 "nbformat": 4,
 "nbformat_minor": 2
}
