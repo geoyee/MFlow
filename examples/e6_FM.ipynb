{
 "cells": [
  {
   "cell_type": "markdown",
   "metadata": {},
   "source": [
    "# FM"
   ]
  },
  {
   "cell_type": "code",
   "execution_count": 1,
   "metadata": {},
   "outputs": [],
   "source": [
    "# 导入\n",
    "import sys\n",
    "\n",
    "sys.path.append(\"E:/dataFiles/github/MFlow\")"
   ]
  },
  {
   "cell_type": "code",
   "execution_count": 2,
   "metadata": {},
   "outputs": [
    {
     "name": "stdout",
     "output_type": "stream",
     "text": [
      "(600, 20) (600,)\n",
      "[ 2.59504557e-02 -1.00953177e-01  1.57808557e-02 -4.40830782e-03\n",
      "  9.16414764e-04 -9.85662887e-03  9.94442073e-03  2.06290276e-02\n",
      " -1.22026847e-02 -8.62425970e-03 -9.96615840e-03 -1.96601127e-05\n",
      "  1.39471189e-03  6.73275504e-03  1.00175070e-03  6.50252432e-03\n",
      "  5.95354590e-03  5.87400539e-03  5.25179067e-03  2.37681886e-04] 1\n"
     ]
    }
   ],
   "source": [
    "# 数据生成\n",
    "import numpy as np\n",
    "from sklearn.datasets import make_circles\n",
    "\n",
    "# 加载同心圆数据\n",
    "xs, ys = make_circles(600, noise=0.1, factor=0.2)\n",
    "ys = 2 * ys - 1  # 0/1转换为-1/1\n",
    "\n",
    "# 特征维数\n",
    "FEAT_DIM = 20\n",
    "# 构造噪声特征\n",
    "xs = np.concatenate([xs, np.random.normal(0.0, 0.01, (600, FEAT_DIM - 2))], axis=1)\n",
    "# 隐藏向量维度\n",
    "HIDDEN_DIM = 2\n",
    "\n",
    "print(xs.shape, ys.shape)\n",
    "print(xs[0], ys[0])"
   ]
  },
  {
   "cell_type": "code",
   "execution_count": 3,
   "metadata": {},
   "outputs": [
    {
     "name": "stdout",
     "output_type": "stream",
     "text": [
      "Epoch: 1, acc: 0.563.\n",
      "Epoch: 2, acc: 0.560.\n",
      "Epoch: 3, acc: 0.552.\n",
      "Epoch: 4, acc: 0.550.\n",
      "Epoch: 5, acc: 0.545.\n",
      "Epoch: 6, acc: 0.545.\n",
      "Epoch: 7, acc: 0.548.\n",
      "Epoch: 8, acc: 0.547.\n",
      "Epoch: 9, acc: 0.547.\n",
      "Epoch: 10, acc: 0.543.\n",
      "Epoch: 11, acc: 0.547.\n",
      "Epoch: 12, acc: 0.545.\n",
      "Epoch: 13, acc: 0.547.\n",
      "Epoch: 14, acc: 0.547.\n",
      "Epoch: 15, acc: 0.547.\n",
      "Epoch: 16, acc: 0.545.\n",
      "Epoch: 17, acc: 0.542.\n",
      "Epoch: 18, acc: 0.542.\n",
      "Epoch: 19, acc: 0.547.\n",
      "Epoch: 20, acc: 0.548.\n",
      "Epoch: 21, acc: 0.548.\n",
      "Epoch: 22, acc: 0.548.\n",
      "Epoch: 23, acc: 0.548.\n",
      "Epoch: 24, acc: 0.547.\n",
      "Epoch: 25, acc: 0.547.\n",
      "Epoch: 26, acc: 0.548.\n",
      "Epoch: 27, acc: 0.547.\n",
      "Epoch: 28, acc: 0.548.\n",
      "Epoch: 29, acc: 0.550.\n",
      "Epoch: 30, acc: 0.552.\n",
      "Epoch: 31, acc: 0.552.\n",
      "Epoch: 32, acc: 0.553.\n",
      "Epoch: 33, acc: 0.550.\n",
      "Epoch: 34, acc: 0.552.\n",
      "Epoch: 35, acc: 0.552.\n",
      "Epoch: 36, acc: 0.552.\n",
      "Epoch: 37, acc: 0.552.\n",
      "Epoch: 38, acc: 0.552.\n",
      "Epoch: 39, acc: 0.552.\n",
      "Epoch: 40, acc: 0.553.\n",
      "Epoch: 41, acc: 0.552.\n",
      "Epoch: 42, acc: 0.550.\n",
      "Epoch: 43, acc: 0.548.\n",
      "Epoch: 44, acc: 0.548.\n",
      "Epoch: 45, acc: 0.548.\n",
      "Epoch: 46, acc: 0.548.\n",
      "Epoch: 47, acc: 0.548.\n",
      "Epoch: 48, acc: 0.550.\n",
      "Epoch: 49, acc: 0.550.\n",
      "Epoch: 50, acc: 0.552.\n"
     ]
    }
   ],
   "source": [
    "# 训练\n",
    "from mflow import core, ops, opts\n",
    "\n",
    "# 超参数\n",
    "lr = 0.001\n",
    "epoch = 50\n",
    "batch_size = 16\n",
    "\n",
    "with core.NameScope(\"FM\"):\n",
    "    # 初始化变量\n",
    "    x = core.Variable(size=(FEAT_DIM, 1), trainable=False)\n",
    "    y = core.Variable(size=(1, 1), trainable=False)\n",
    "    w = core.Variable(size=(1, FEAT_DIM), trainable=True)\n",
    "    h = core.Variable(size=(HIDDEN_DIM, FEAT_DIM), trainable=True)\n",
    "    b = core.Variable(size=(1, 1), trainable=True)\n",
    "    # 模型定义\n",
    "    pred = ops.Add(\n",
    "        ops.MatMal(\n",
    "            ops.Reshape(x, shape=(1, FEAT_DIM)), \n",
    "            ops.MatMal(ops.MatMal(ops.Reshape(h, shape=(FEAT_DIM, HIDDEN_DIM)), h), x)\n",
    "        ),  # 二次项\n",
    "        ops.MatMal(w, x),  # 一次项\n",
    "        b  # 偏置项\n",
    "    )\n",
    "    predicter = ops.Logistic(pred)\n",
    "    loss = ops.loss.LogLoss(ops.Multiply(y, pred))\n",
    "    adam = opts.Adam(core.DefaultGraph, loss, lr)\n",
    "    # 开始训练\n",
    "    for ep in range(1, epoch + 1):\n",
    "        bs_idx = 0  # 批次计数\n",
    "        # 这是一个epoch的过程\n",
    "        for i, (feat, lab) in enumerate(zip(xs, ys)):\n",
    "            x.setValue(np.mat(feat).T)\n",
    "            y.setValue(np.mat(lab))\n",
    "            adam.step()\n",
    "            bs_idx += 1\n",
    "            if bs_idx == batch_size:\n",
    "                adam.update()\n",
    "                bs_idx = 0\n",
    "        # 一个epoch完成后进行评估\n",
    "        preds = []\n",
    "        for feat in xs:\n",
    "            x.setValue(np.mat(feat).T)\n",
    "            predicter.forward()\n",
    "            preds.append(predicter.value[0, 0])  # 结果\n",
    "        preds = (np.array(preds) > 0.5).astype(\"int\") * 2 - 1\n",
    "        acc = (ys == preds).astype(\"uint8\").sum() / len(xs)\n",
    "        print(\"Epoch: {:d}, acc: {:.3f}.\".format(ep, acc))"
   ]
  }
 ],
 "metadata": {
  "interpreter": {
   "hash": "a25450dffbd8ff6afdb60e6b8570ed9b7d168b4425452c653cc1a70a36de1a45"
  },
  "kernelspec": {
   "display_name": "Python 3.8.10 64-bit ('iann': conda)",
   "language": "python",
   "name": "python3"
  },
  "language_info": {
   "codemirror_mode": {
    "name": "ipython",
    "version": 3
   },
   "file_extension": ".py",
   "mimetype": "text/x-python",
   "name": "python",
   "nbconvert_exporter": "python",
   "pygments_lexer": "ipython3",
   "version": "3.8.10"
  },
  "orig_nbformat": 4
 },
 "nbformat": 4,
 "nbformat_minor": 2
}
