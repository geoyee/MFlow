{
 "cells": [
  {
   "cell_type": "markdown",
   "metadata": {},
   "source": [
    "# FM"
   ]
  },
  {
   "cell_type": "code",
   "execution_count": 1,
   "metadata": {},
   "outputs": [],
   "source": [
    "# 导入\n",
    "import sys\n",
    "\n",
    "sys.path.append(\"E:/dataFiles/github/MFlow\")"
   ]
  },
  {
   "cell_type": "code",
   "execution_count": 2,
   "metadata": {},
   "outputs": [
    {
     "name": "stdout",
     "output_type": "stream",
     "text": [
      "(600, 20) (600,)\n",
      "[ 1.43629708e-01 -1.91212198e-01  2.60332837e-04  1.90875232e-03\n",
      " -8.54440868e-03 -4.50469881e-03 -6.22663329e-03 -1.40363399e-02\n",
      "  3.26462414e-03  1.82013032e-02  4.44894307e-03  1.32349584e-02\n",
      "  1.25476752e-02  7.46143871e-03 -6.80912229e-03 -1.77366370e-04\n",
      " -1.38554174e-02  1.09058037e-02  4.84247244e-03 -4.56575055e-03] 1\n"
     ]
    }
   ],
   "source": [
    "# 数据生成\n",
    "import numpy as np\n",
    "from sklearn.datasets import make_circles\n",
    "\n",
    "# 加载同心圆数据\n",
    "xs, ys = make_circles(600, noise=0.1, factor=0.2)\n",
    "ys = ys * 2 - 1  # 0/1转换为-1/1\n",
    "\n",
    "# 特征维数\n",
    "FEAT_DIM = 20\n",
    "# 构造噪声特征\n",
    "xs = np.concatenate([xs, np.random.normal(0.0, 0.01, (600, FEAT_DIM - 2))], axis=1)\n",
    "# 隐藏向量维度\n",
    "HIDDEN_DIM = 2\n",
    "\n",
    "print(xs.shape, ys.shape)\n",
    "print(xs[0], ys[0])"
   ]
  },
  {
   "cell_type": "code",
   "execution_count": 3,
   "metadata": {},
   "outputs": [
    {
     "name": "stdout",
     "output_type": "stream",
     "text": [
      "Epoch: 1, acc: 0.672.\n",
      "Epoch: 2, acc: 0.940.\n",
      "Epoch: 3, acc: 0.943.\n",
      "Epoch: 4, acc: 0.918.\n",
      "Epoch: 5, acc: 0.908.\n",
      "Epoch: 6, acc: 0.910.\n",
      "Epoch: 7, acc: 0.925.\n",
      "Epoch: 8, acc: 0.932.\n",
      "Epoch: 9, acc: 0.943.\n",
      "Epoch: 10, acc: 0.955.\n",
      "Epoch: 11, acc: 0.960.\n",
      "Epoch: 12, acc: 0.965.\n",
      "Epoch: 13, acc: 0.970.\n",
      "Epoch: 14, acc: 0.972.\n",
      "Epoch: 15, acc: 0.975.\n",
      "Epoch: 16, acc: 0.978.\n",
      "Epoch: 17, acc: 0.985.\n",
      "Epoch: 18, acc: 0.988.\n",
      "Epoch: 19, acc: 0.990.\n",
      "Epoch: 20, acc: 0.988.\n",
      "Epoch: 21, acc: 0.988.\n",
      "Epoch: 22, acc: 0.988.\n",
      "Epoch: 23, acc: 0.988.\n",
      "Epoch: 24, acc: 0.990.\n",
      "Epoch: 25, acc: 0.990.\n",
      "Epoch: 26, acc: 0.990.\n",
      "Epoch: 27, acc: 0.990.\n",
      "Epoch: 28, acc: 0.990.\n",
      "Epoch: 29, acc: 0.990.\n",
      "Epoch: 30, acc: 0.992.\n",
      "Epoch: 31, acc: 0.992.\n",
      "Epoch: 32, acc: 0.992.\n",
      "Epoch: 33, acc: 0.993.\n",
      "Epoch: 34, acc: 0.993.\n",
      "Epoch: 35, acc: 0.995.\n",
      "Epoch: 36, acc: 0.997.\n",
      "Epoch: 37, acc: 0.998.\n",
      "Epoch: 38, acc: 1.000.\n",
      "Epoch: 39, acc: 1.000.\n",
      "Epoch: 40, acc: 1.000.\n",
      "Epoch: 41, acc: 1.000.\n",
      "Epoch: 42, acc: 1.000.\n",
      "Epoch: 43, acc: 1.000.\n",
      "Epoch: 44, acc: 1.000.\n",
      "Epoch: 45, acc: 1.000.\n",
      "Epoch: 46, acc: 1.000.\n",
      "Epoch: 47, acc: 1.000.\n",
      "Epoch: 48, acc: 1.000.\n",
      "Epoch: 49, acc: 1.000.\n",
      "Epoch: 50, acc: 1.000.\n"
     ]
    }
   ],
   "source": [
    "# 训练\n",
    "from mflow import core, ops, opts\n",
    "\n",
    "# 超参数\n",
    "lr = 0.001\n",
    "epoch = 50\n",
    "batch_size = 16\n",
    "\n",
    "with core.NameScope(\"FM\"):\n",
    "    # 初始化变量\n",
    "    x = core.Variable(size=(FEAT_DIM, 1), trainable=False)\n",
    "    y = core.Variable(size=(1, 1), trainable=False)\n",
    "    w = core.Variable(size=(1, FEAT_DIM), trainable=True)\n",
    "    h = core.Variable(size=(HIDDEN_DIM, FEAT_DIM), trainable=True)\n",
    "    b = core.Variable(size=(1, 1), trainable=True)\n",
    "    # 模型定义\n",
    "    pred = ops.Add(\n",
    "        ops.MatMal(\n",
    "            ops.Reshape(x, shape=(1, FEAT_DIM)), \n",
    "            ops.MatMal(ops.MatMal(ops.Reshape(h, shape=(FEAT_DIM, HIDDEN_DIM)), h), x)\n",
    "        ),  # 二次项\n",
    "        ops.MatMal(w, x),  # 一次项\n",
    "        b  # 偏置项\n",
    "    )\n",
    "    predicter = ops.Logistic(pred)\n",
    "    loss = ops.loss.LogLoss(ops.Multiply(y, pred))\n",
    "    adam = opts.Adam(core.DefaultGraph, loss, lr)\n",
    "    # 开始训练\n",
    "    for ep in range(1, epoch + 1):\n",
    "        bs_idx = 0  # 批次计数\n",
    "        # 这是一个epoch的过程\n",
    "        for i, (feat, lab) in enumerate(zip(xs, ys)):\n",
    "            x.setValue(np.mat(feat).T)\n",
    "            y.setValue(np.mat(lab))\n",
    "            adam.step()\n",
    "            bs_idx += 1\n",
    "            if bs_idx == batch_size:\n",
    "                adam.update()\n",
    "                bs_idx = 0\n",
    "        # 一个epoch完成后进行评估\n",
    "        preds = []\n",
    "        for feat in xs:\n",
    "            x.setValue(np.mat(feat).T)\n",
    "            predicter.forward()\n",
    "            preds.append(predicter.value[0, 0])  # 结果\n",
    "        preds = (np.array(preds) > 0.5).astype(\"int\") * 2 - 1\n",
    "        acc = (ys == preds).astype(\"uint8\").sum() / len(xs)\n",
    "        print(\"Epoch: {:d}, acc: {:.3f}.\".format(ep, acc))"
   ]
  }
 ],
 "metadata": {
  "interpreter": {
   "hash": "a25450dffbd8ff6afdb60e6b8570ed9b7d168b4425452c653cc1a70a36de1a45"
  },
  "kernelspec": {
   "display_name": "Python 3.8.10 64-bit ('iann': conda)",
   "language": "python",
   "name": "python3"
  },
  "language_info": {
   "codemirror_mode": {
    "name": "ipython",
    "version": 3
   },
   "file_extension": ".py",
   "mimetype": "text/x-python",
   "name": "python",
   "nbconvert_exporter": "python",
   "pygments_lexer": "ipython3",
   "version": "3.8.10"
  },
  "orig_nbformat": 4
 },
 "nbformat": 4,
 "nbformat_minor": 2
}
